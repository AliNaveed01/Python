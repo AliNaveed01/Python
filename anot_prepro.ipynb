{
 "cells": [
  {
   "cell_type": "markdown",
   "metadata": {},
   "source": [
    "Preprocessing of Annotations\n"
   ]
  },
  {
   "cell_type": "code",
   "execution_count": 11,
   "metadata": {},
   "outputs": [],
   "source": [
    "import os\n",
    "import shutil "
   ]
  },
  {
   "cell_type": "code",
   "execution_count": 16,
   "metadata": {},
   "outputs": [
    {
     "name": "stdout",
     "output_type": "stream",
     "text": [
      "1696\n"
     ]
    }
   ],
   "source": [
    "# In this notebook, we will go to the annotations folder.\n",
    "# we will open every file and replace the class with '0' class.\n",
    "# each file is written in yolo format so the first number is the class number., we will replace it with 0. No more changes are needed.\n",
    "\n",
    "# First we will go to the annotations folder\n",
    "path = 'new_annotations'\n",
    "files = os.listdir(path)\n",
    "\n",
    "print(len(files))"
   ]
  },
  {
   "cell_type": "code",
   "execution_count": 17,
   "metadata": {},
   "outputs": [
    {
     "name": "stdout",
     "output_type": "stream",
     "text": [
      "['f293c37d-7b1e-4555-a6c8-05ac515f93bc.txt', 'ac7dce43-cd0d-4d25-8d9d-977c82aba65f.txt', '5a70455a-4174-4f48-9bb2-d07c963d8076.txt', 'f02f662f-4593-40c5-9d29-4519d84f7298.txt', 'b295f593-b9d4-4e03-8f20-98578bff2d86.txt']\n"
     ]
    }
   ],
   "source": [
    "print(files[:5])"
   ]
  },
  {
   "cell_type": "code",
   "execution_count": 18,
   "metadata": {},
   "outputs": [
    {
     "name": "stdout",
     "output_type": "stream",
     "text": [
      "f293c37d-7b1e-4555-a6c8-05ac515f93bc.txt\n",
      "0 0.17109375 0.5375 0.1515625 0.1361111111111111\n",
      "0 0.868359375 0.5125 0.12265625 0.07777777777777778\n",
      "0 0.848828125 0.51875 0.16171875 0.09305555555555556\n"
     ]
    }
   ],
   "source": [
    "# read the content of the first file that is 'f293c37d-7b1e-4555-a6c8-05ac515f93bc.txt'\n",
    "with open(os.path.join(path, files[0]), 'r') as file:\n",
    "    content = file.read()\n",
    "    print(files[0])\n",
    "    print(content)"
   ]
  },
  {
   "cell_type": "code",
   "execution_count": 15,
   "metadata": {},
   "outputs": [
    {
     "name": "stdout",
     "output_type": "stream",
     "text": [
      "file saved\n"
     ]
    }
   ],
   "source": [
    "# lets first do it for 5 files and save them in a new folder with the same name\n",
    "\n",
    "# first we will create a new folder\n",
    "if not os.path.exists('new_annotations'):\n",
    "    os.makedirs('new_annotations')\n",
    "\n",
    "for file in files:\n",
    "    with open (os.path.join(path, file), 'r') as f:\n",
    "        lines = f.readlines()\n",
    "        new_lines = []\n",
    "        for line in lines:\n",
    "            new_line = '0' + line[1:]\n",
    "            new_lines.append(new_line)\n",
    "            # now saving the new file with the same name in a new folder\n",
    "            with open(os.path.join('new_annotations', file), 'w') as f:\n",
    "                f.writelines(new_lines)\n",
    "\n",
    "print('file saved')\n"
   ]
  }
 ],
 "metadata": {
  "kernelspec": {
   "display_name": "Python 3",
   "language": "python",
   "name": "python3"
  },
  "language_info": {
   "codemirror_mode": {
    "name": "ipython",
    "version": 3
   },
   "file_extension": ".py",
   "mimetype": "text/x-python",
   "name": "python",
   "nbconvert_exporter": "python",
   "pygments_lexer": "ipython3",
   "version": "3.10.12"
  }
 },
 "nbformat": 4,
 "nbformat_minor": 2
}
