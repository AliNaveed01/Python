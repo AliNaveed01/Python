{
 "cells": [
  {
   "cell_type": "code",
   "execution_count": 11,
   "metadata": {},
   "outputs": [
    {
     "name": "stdout",
     "output_type": "stream",
     "text": [
      "Length of set1 is:  10\n",
      "Union of set1 and set2 is:  {1, 2, 3, 4, 5, 6, 7, 8, 9, 10}\n",
      "Intersection of set1 and set2 is:  {1, 2, 3, 4, 5, 6, 7, 8, 9, 10}\n",
      "Difference of set1 and set2 is:  set()\n",
      "Symmetric difference of set1 and set2 is:  set()\n",
      "Maximum value in set1 is:  10\n",
      "Minimum value in set1 is:  1\n",
      "Shallow copy of set1 is:  {1, 2, 3, 4, 5, 6, 7, 8, 9, 10}\n",
      "Is set1 a subset of set4?  True\n",
      "Set1 after clearing all elements:  set()\n",
      "Do set4 and set5 have no elements in common?  False\n",
      "Is set4 a superset of itself?  True\n",
      "Is set4 a superset of set5?  True\n"
     ]
    }
   ],
   "source": [
    "def main():\n",
    "    # a) Find the length of a set\n",
    "    set1 = {1, 2, 3, 4, 5, 6, 7, 8, 9, 10}\n",
    "    print(\"Length of set1 is: \", len(set1))\n",
    "    # b) apply all sets operations and print the results\n",
    "    set2 = {1, 2, 3, 4, 5, 6, 7, 8, 9, 10}\n",
    "    union = set1.union(set2)\n",
    "    intersection = set1.intersection(set2)\n",
    "    difference = set1.difference(set2)\n",
    "    symmetric_difference = set1.symmetric_difference(set2)\n",
    "    print(\"Union of set1 and set2 is: \", union)\n",
    "    print(\"Intersection of set1 and set2 is: \", intersection)\n",
    "    print(\"Difference of set1 and set2 is: \", difference)\n",
    "    print(\"Symmetric difference of set1 and set2 is: \", symmetric_difference)\n",
    "    # c) find maximum and the minimum value in a set\n",
    "    print(\"Maximum value in set1 is: \", max(set1))\n",
    "    print(\"Minimum value in set1 is: \", min(set1))\n",
    "    # d) create a shallow copy of sets\n",
    "    set3 = set1.copy()\n",
    "    print(\"Shallow copy of set1 is: \", set3)\n",
    "    # e) check if a set is a subset of another set\n",
    "    set4 = {1, 2, 3, 4, 5, 6, 7, 8, 9, 10, 11, 12, 13, 14, 15}\n",
    "    print(\"Is set1 a subset of set4? \", set1.issubset(set4))\n",
    "    # f) remove all elements from a given set\n",
    "    set1.clear()\n",
    "    print(\"Set1 after clearing all elements: \", set1)\n",
    "    # g) check if two given sets have no elements in common\n",
    "    set5 = {11, 12, 13, 14, 15}\n",
    "    print(\"Do set4 and set5 have no elements in common? \", set4.isdisjoint(set5))\n",
    "    # h) check if a given set is superset of itself and superset of another given set.\n",
    "    print(\"Is set4 a superset of itself? \", set4.issuperset(set4))\n",
    "    print(\"Is set4 a superset of set5? \", set4.issuperset(set5))\n",
    "    \n",
    "    \n",
    "#call the main function\n",
    "main()\n",
    "     \n",
    "    "
   ]
  },
  {
   "cell_type": "code",
   "execution_count": 12,
   "metadata": {},
   "outputs": [
    {
     "name": "stdout",
     "output_type": "stream",
     "text": [
      "Addition of x and y is:  44\n",
      "Multiplication of x and y is:  384\n",
      "Division of x and y is:  0.375\n"
     ]
    }
   ],
   "source": [
    "def main():\n",
    "    try:\n",
    "        x = int(input(\"Enter a number: \"))\n",
    "        y = int(input(\"Enter another number: \"))\n",
    "        print(\"Addition of x and y is: \", x + y)\n",
    "        print(\"Multiplication of x and y is: \", x * y)\n",
    "        print(\"Division of x and y is: \", x / y)\n",
    "    except ValueError:\n",
    "        print(\"Please enter a valid number\")\n",
    "    except ZeroDivisionError:\n",
    "        print(\"Division by zero is not possible\")\n",
    "        \n",
    "main()"
   ]
  },
  {
   "cell_type": "code",
   "execution_count": 13,
   "metadata": {},
   "outputs": [
    {
     "name": "stdout",
     "output_type": "stream",
     "text": [
      "Data written to file successfully\n"
     ]
    }
   ],
   "source": [
    "def main():\n",
    "    file_path = 'Alphabets.txt'\n",
    "    with open(file_path, 'r') as file:\n",
    "        data = file.read()\n",
    "        reversed_data = data[::-1]\n",
    "        with open('reversed.txt', 'w') as file2:\n",
    "            file2.write(reversed_data)\n",
    "            \n",
    "    print(\"Data written to file successfully\")\n",
    "            \n",
    "\n",
    "\n",
    "main()"
   ]
  },
  {
   "cell_type": "code",
   "execution_count": 14,
   "metadata": {},
   "outputs": [
    {
     "name": "stdout",
     "output_type": "stream",
     "text": [
      "A or a:  2\n",
      "M or m:  0\n"
     ]
    }
   ],
   "source": [
    "def AMcount():\n",
    "    file_path = 'Alphabets.txt'\n",
    "    with open(file_path, 'r') as file:\n",
    "        data = file.read()\n",
    "        a_count = data.count('a') + data.count('A')\n",
    "        m_count = data.count('m') + data.count('M')\n",
    "        print(\"A or a: \", a_count)\n",
    "        print(\"M or m: \", m_count)\n",
    "        \n",
    "AMcount()"
   ]
  },
  {
   "cell_type": "code",
   "execution_count": 15,
   "metadata": {},
   "outputs": [
    {
     "name": "stdout",
     "output_type": "stream",
     "text": [
      "1\n",
      "2\n",
      "3\n",
      "4\n",
      "5\n"
     ]
    }
   ],
   "source": [
    "def main():\n",
    "    for i in range(1, 6):\n",
    "        print(i)\n",
    "\n",
    "main()"
   ]
  }
 ],
 "metadata": {
  "kernelspec": {
   "display_name": "Python 3",
   "language": "python",
   "name": "python3"
  },
  "language_info": {
   "codemirror_mode": {
    "name": "ipython",
    "version": 3
   },
   "file_extension": ".py",
   "mimetype": "text/x-python",
   "name": "python",
   "nbconvert_exporter": "python",
   "pygments_lexer": "ipython3",
   "version": "3.9.7"
  },
  "orig_nbformat": 4,
  "vscode": {
   "interpreter": {
    "hash": "9fd60b8bb15377d59e74e9fea1e7409c02a309b91caf5779becf2247a2e38203"
   }
  }
 },
 "nbformat": 4,
 "nbformat_minor": 2
}
