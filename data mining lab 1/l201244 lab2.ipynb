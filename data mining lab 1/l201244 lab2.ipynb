{
  "cells": [
    {
      "cell_type": "markdown",
      "metadata": {
        "id": "Rafzbiva9s9l"
      },
      "source": [
        "# Question 1: \n",
        "Ask user to give two float input for length and breadth of a rectangle and print area type casted to int."
      ]
    },
    {
      "cell_type": "code",
      "execution_count": 13,
      "metadata": {},
      "outputs": [
        {
          "name": "stdout",
          "output_type": "stream",
          "text": [
            "Area of rectangle is:  144\n"
          ]
        }
      ],
      "source": [
        "length = float(input(\"Enter length of rectangle: \"))\n",
        "breadth = float(input(\"Enter breadth of rectangle: \"))\n",
        "area = length * breadth\n",
        "print(\"Area of rectangle is: \", int(area))"
      ]
    },
    {
      "cell_type": "markdown",
      "metadata": {
        "id": "5xIrriST9yU2"
      },
      "source": [
        "# Question 2:\n",
        "Take name, roll number and GPA from user and print in the below format:\n",
        "\n",
        "My name is xyz and my roll number is xyz. My GPA is xyz"
      ]
    },
    {
      "cell_type": "code",
      "execution_count": 14,
      "metadata": {},
      "outputs": [
        {
          "name": "stdout",
          "output_type": "stream",
          "text": [
            "My name is Naveed Ali and my roll number is 1244 . My GPA is 2.39\n"
          ]
        }
      ],
      "source": [
        "name = input(\"Enter your name: \")\n",
        "roll = input(\"Enter your roll number: \")\n",
        "gpa = input(\"Enter your GPA: \")\n",
        "print(\"My name is\", name, \"and my roll number is\", roll, \". My GPA is\", gpa)"
      ]
    },
    {
      "cell_type": "markdown",
      "metadata": {
        "id": "-66paRIF93MN"
      },
      "source": [
        "# Question3\n",
        "\n",
        "Store three integers in x, y and z. Print their sum and product."
      ]
    },
    {
      "cell_type": "code",
      "execution_count": 15,
      "metadata": {},
      "outputs": [
        {
          "name": "stdout",
          "output_type": "stream",
          "text": [
            "Sum of three numbers is:  56\n",
            "Product of three numbers is:  4608\n"
          ]
        }
      ],
      "source": [
        "x = int(input(\"Enter first number: \"))\n",
        "y = int(input(\"Enter second number: \"))\n",
        "z = int(input(\"Enter third number: \"))\n",
        "sum = x + y + z\n",
        "product = x * y * z\n",
        "print(\"Sum of three numbers is: \", sum)\n",
        "print(\"Product of three numbers is: \", product)\n"
      ]
    },
    {
      "cell_type": "markdown",
      "metadata": {
        "id": "NkaVo3oH983q"
      },
      "source": [
        "#Question4\n",
        "\n",
        "Suppose passing marks of a subject is 35. Take input of marks from user and check whether it is greater than passing marks or not"
      ]
    },
    {
      "cell_type": "code",
      "execution_count": 16,
      "metadata": {},
      "outputs": [
        {
          "name": "stdout",
          "output_type": "stream",
          "text": [
            "You have passed the exam\n"
          ]
        }
      ],
      "source": [
        "threshold = 35\n",
        "marks = int(input(\"Enter your marks: \"))\n",
        "if marks > threshold:\n",
        "    print(\"You have passed the exam\")\n",
        "else:\n",
        "    print(\"You have failed the exam\")"
      ]
    },
    {
      "cell_type": "markdown",
      "metadata": {
        "id": "gqdC1LCZ-CPW"
      },
      "source": [
        "# Question5\n",
        "\n",
        "A school has following rules for grading system:\n",
        "\n",
        "1. Below 45 - F\n",
        "2. 45 to 49 - D\n",
        "3. 50 to 59 - C\n",
        "4. 60 to 79 - B\n",
        "5. 80 or above - A\n",
        "Ask user to enter marks and print the corresponding grade."
      ]
    },
    {
      "cell_type": "code",
      "execution_count": 17,
      "metadata": {},
      "outputs": [
        {
          "name": "stdout",
          "output_type": "stream",
          "text": [
            "Your grade is F\n"
          ]
        }
      ],
      "source": [
        "marks = int(input(\"Enter your marks: \"))\n",
        "if marks < 45:\n",
        "    print(\"Your grade is F\")\n",
        "elif marks >= 45 and marks < 50:\n",
        "    print(\"Your grade is D\")\n",
        "elif marks >= 50 and marks < 60:\n",
        "    print(\"Your grade is C\")\n",
        "elif marks >= 60 and marks < 80:\n",
        "    print(\"Your grade is B\")\n",
        "else:\n",
        "    print(\"Your grade is A\")\n",
        "\n"
      ]
    },
    {
      "cell_type": "markdown",
      "metadata": {
        "id": "cwL--Q8Z-IUH"
      },
      "source": [
        "# Question6\n",
        "\n",
        "Print all elements of a list using for loop."
      ]
    },
    {
      "cell_type": "code",
      "execution_count": 18,
      "metadata": {},
      "outputs": [
        {
          "name": "stdout",
          "output_type": "stream",
          "text": [
            "[73, 0, 17, 33, 2, 47, 43, 57, 17, 20]\n"
          ]
        }
      ],
      "source": [
        "import random\n",
        "list = []\n",
        "for i in range(10):\n",
        "    list.append(random.randint(0, 100))\n",
        "print(list)\n",
        "\n"
      ]
    },
    {
      "attachments": {},
      "cell_type": "markdown",
      "metadata": {
        "id": "Cj4M_9My-OR1"
      },
      "source": [
        "# Question7\n",
        "\n",
        "Take 5 integers from user using for loop and print their sum on the screen."
      ]
    },
    {
      "cell_type": "code",
      "execution_count": 19,
      "metadata": {},
      "outputs": [
        {
          "name": "stdout",
          "output_type": "stream",
          "text": [
            "Sum of five numbers is:  199\n"
          ]
        }
      ],
      "source": [
        "for i in range(5):\n",
        "    number = int(input(\"Enter a number: \"))\n",
        "    sum += number\n",
        "print(\"Sum of five numbers is: \", sum)"
      ]
    },
    {
      "attachments": {},
      "cell_type": "markdown",
      "metadata": {
        "id": "kXc90fFA-Zn6"
      },
      "source": [
        "# Question8\n",
        "\n",
        "Take 5 integers from user using while loop and print their sum on the screen."
      ]
    },
    {
      "cell_type": "code",
      "execution_count": 21,
      "metadata": {},
      "outputs": [
        {
          "name": "stdout",
          "output_type": "stream",
          "text": [
            "Sum of five numbers is:  115\n"
          ]
        }
      ],
      "source": [
        "i = 0\n",
        "sum = 0\n",
        "while i < 5:\n",
        "    number = int(input(\"Enter a number: \"))\n",
        "    sum += number\n",
        "    i += 1\n",
        "print(\"Sum of five numbers is: \", sum)"
      ]
    },
    {
      "cell_type": "markdown",
      "metadata": {
        "id": "Dunx-Qpe-iVx"
      },
      "source": [
        "#Question9\n",
        "\n",
        "Take two integer numbers from the user, return their product only if the product is equal to or lower than 1000, else return their sum."
      ]
    },
    {
      "cell_type": "code",
      "execution_count": 22,
      "metadata": {},
      "outputs": [
        {
          "name": "stdout",
          "output_type": "stream",
          "text": [
            "Product is:  36\n"
          ]
        }
      ],
      "source": [
        "a = int(input(\"Enter first number: \"))\n",
        "b = int(input(\"Enter second number: \"))\n",
        "product = a * b\n",
        "if product <= 1000:\n",
        "    print(\"Product is: \", product)\n",
        "else:\n",
        "    print(\"Sum is: \", a + b)"
      ]
    }
  ],
  "metadata": {
    "colab": {
      "provenance": []
    },
    "kernelspec": {
      "display_name": "Python 3",
      "language": "python",
      "name": "python3"
    },
    "language_info": {
      "codemirror_mode": {
        "name": "ipython",
        "version": 3
      },
      "file_extension": ".py",
      "mimetype": "text/x-python",
      "name": "python",
      "nbconvert_exporter": "python",
      "pygments_lexer": "ipython3",
      "version": "3.9.7"
    },
    "vscode": {
      "interpreter": {
        "hash": "9fd60b8bb15377d59e74e9fea1e7409c02a309b91caf5779becf2247a2e38203"
      }
    }
  },
  "nbformat": 4,
  "nbformat_minor": 0
}
