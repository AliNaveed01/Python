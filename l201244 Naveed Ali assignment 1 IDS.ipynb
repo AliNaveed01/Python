{
 "cells": [
  {
   "cell_type": "markdown",
   "source": [
    "# HOMEWORK 2\n",
    "## Enter your name and roll number in the commented code below"
   ],
   "metadata": {}
  },
  {
   "cell_type": "code",
   "execution_count": null,
   "source": [
    "## NAME: Naveed Ali\r\n",
    "## ROLL NO: 20L-1244"
   ],
   "outputs": [],
   "metadata": {}
  },
  {
   "cell_type": "markdown",
   "source": [
    "### This is where you write all your code. Solve all problems in the cells given underneath the questions. DO NOT create extra cells. DO NOT submit your homework in any other format. DO NOT edit/add/delete any of the markdown cells in this file. Submit .ipynb file only. Submissions in all other formats will not be accepted. DO NOT copy/plagiarize your work from your colleagues. None of your code for the practical questions should return an error. "
   ],
   "metadata": {}
  },
  {
   "cell_type": "markdown",
   "source": [
    "## Q1: You are given a string. Use python's inbuilt methods for solving the questions given in the comments\n",
    "##### For this question each successive part applies its methods on the output of the previous part"
   ],
   "metadata": {}
  },
  {
   "cell_type": "code",
   "execution_count": null,
   "source": [
    "string_for_q1 = \" sally sells seashells by the seashore! \"\r\n",
    "####\r\n",
    "## Remove whitespaces from the start and end of the string.\r\n",
    "newstrings = string_for_q1.split()\r\n",
    "print (newstrings)\r\n",
    "## Convert the first letter of the first word into a capital letter.\r\n",
    "newstrings = string_for_q1.capitalize()\r\n",
    "print (newstrings)\r\n",
    "## Find the number of times the letter s occurs in the string above\r\n",
    "count = string_for_q1.count('o')\r\n",
    "print (count)\r\n",
    "## Print True if the string ends with an exclamation mark (!)\r\n",
    "if(newstrings.endswith('!'))\r\n",
    "    print (True)\r\n",
    "## Print True if the string contains all uppercase letters\r\n",
    "if(newstrings.isupper())\r\n",
    "    print (True)\r\n",
    "## Convert all the letters of the string above into uppercase\r\n",
    "uppercase = mystring.upper()\r\n",
    "print (uppercase)\r\n",
    "\r\n",
    "\r\n",
    "#============================================================#\r\n",
    "\r\n",
    "\r\n",
    "another_string_q1 = ' 185689387321I3_ @ '\r\n",
    "\r\n",
    "## Return True if all the characters in the second string are numbers.\r\n",
    "print(another_string_q1.isnumeric())\r\n",
    "\r\n",
    "## Return True if any character is a whitespace\r\n",
    "print(another_string_q1.isspace())\r\n",
    "\r\n",
    "## Remove Whitespace only from the end of the string. Not from the start.\r\n",
    "new = my_string.rstrip()\r\n",
    "print(new)\r\n",
    "\r\n",
    "## Replace all occurrences of non-digit characters with a hyphen\r\n",
    "str2 = another_string_q1.replace(' ', '_')\r\n",
    "print str2\r\n",
    "## "
   ],
   "outputs": [],
   "metadata": {}
  },
  {
   "cell_type": "markdown",
   "source": [
    "## Q2: Write a function that takes an integer as an input and returns TRUE if the integer is divisible by 3 or 9 else it returns False. You MAY NOT use the mod operator. No marks will be given for using the mod operator. %"
   ],
   "metadata": {}
  },
  {
   "cell_type": "code",
   "execution_count": null,
   "source": [
    "def divisible_by_3(my_integer):\r\n",
    "    if(my_integer -3 *(my_integer / 3))  == 0 or (my_integer-9 *(my_integer/9)==0):\r\n",
    "        return True\r\n",
    "    else\r\n",
    "        return False\r\n",
    "print(divisible_by_3(15151662))\r\n",
    "print(divisible_by_3(15558453))\r\n",
    "print(divisible_by_3(50514))\r\n",
    "print(divisible_by_3(1685604))\r\n",
    "print(divisible_by_3(894946816518))"
   ],
   "outputs": [],
   "metadata": {}
  },
  {
   "cell_type": "markdown",
   "source": [
    "## Q3: Write a function that takes the angles of a triangle as arguments. It then prints whether the triangle is scalene, isosceles, or equilateral. It then also prints whether the triangle is acute, obtuse or right angled"
   ],
   "metadata": {}
  },
  {
   "cell_type": "code",
   "execution_count": null,
   "source": [
    "def triangle(*angles):\r\n",
    "if angles[0]==angles[1]==angles[2]:\r\n",
    "    print (\"Equilateral triangle\")\r\n",
    "elif angles[0]==angles[1] or angles[1]=-angles[2] or angles[2]==angles[0]:\r\n",
    "    print(\"isosceles triangle\")\r\n",
    "else:\r\n",
    "    print (\"Scalene triangle\")\r\n",
    "\r\n",
    "#============================================================================#\r\n",
    "\r\n",
    "if(angles[e]*angles[0]+angles[1]*angles[1]<angles[2]*angles[2]):\r\n",
    "    print (\"The triangle is Obtuse.\")\r\n",
    "elif(angles[0]*angles[0]+angles[1]*angles[1]>angles[2]*angles[2]):\r\n",
    "    print (\"The triangle is Acute.\")\r\n",
    "elif(angles[8]*angles[8]+angles[1]*angles[1]=-angles[2]*angles[2]):\r\n",
    "    print(\"The triangle is right-angled)\r\n",
    "else\r\n",
    "    print(\"invalid input...!\")\r\n",
    "\r\n",
    "\r\n",
    "triangle(130,25,25)"
   ],
   "outputs": [],
   "metadata": {}
  },
  {
   "cell_type": "markdown",
   "source": [
    "## Q4: USA's NFL names their Superbowl version as Roman Numerals each year. However, the only employee that knew Roman Numerals has left NFL to move to Mexico. The only information he has left behind are seven Roman Numeral and their integer form. NFL's greedy executives don't want to hire anyone for the next thousand years. So your task is to write a function that returns a Roman Numeral for any integer that is input."
   ],
   "metadata": {}
  },
  {
   "cell_type": "code",
   "execution_count": null,
   "source": [
    "def roman_numerals(integer_form):\r\n",
    "    \"\"\"Input: Any integer\r\n",
    "    Roman Numerals:\r\n",
    "    I -> 1\r\n",
    "    V -> 5\r\n",
    "    X -> 10\r\n",
    "    L -> 50\r\n",
    "    C -> 100\r\n",
    "    D -> 500\r\n",
    "    M -> 1000\r\n",
    "    Output: Roman Numeral Forms\r\n",
    "    Hint: Use Dictionary and String Concatenations\"\"\"\r\n",
    "    \r\n",
    "    value = [1000,500,100,50,10,5,1]\r\n",
    "    symbol = [\"M\",\"D\",\"C\",\"L\",\"X\",\"V\", \"I\"]\r\n",
    "    roman = \" \";\r\n",
    "    count = 0\r\n",
    "    while integer_form>0\r\n",
    "        for _ in range(integer_form)\r\n",
    "            roman+= symbol[i]\r\n",
    "            integer_form - = value[i]\r\n",
    "        i = i+1\r\n",
    "    print (roman)\r\n",
    "\r\n",
    "roman_numerals(1056)\r\n",
    "roman_numerals(595)\r\n",
    "roman_numerals(884)"
   ],
   "outputs": [],
   "metadata": {}
  },
  {
   "cell_type": "markdown",
   "source": [
    "## Q5: Although Aasia is a brilliant Python programmer and an enthusiast; her fast typing speed and an aversion to autocomplete causes syntax errors, most of which are missing closing brackets },], or ). Your task is to write a function that takes a string as input and returns True if each line of code given as input has a closing bracket for a corresponding open bracket."
   ],
   "metadata": {}
  },
  {
   "cell_type": "code",
   "execution_count": null,
   "source": [
    "def brackets (code):\r\n",
    "openbrac=[\"[\",\"{\",\"(\"]\r\n",
    "closebrac = [\"]\",\"}\",\")\"]\r\n",
    "\r\n",
    "flag=[]\r\n",
    "for i in code:\r\n",
    "    if i in openbra:\r\n",
    "    flag. append(i)\r\n",
    "elif i in closebrac:\r\n",
    "    p=closebrac.index(i)\r\n",
    "    if len(flag)›0 and (openbra{p]==flag[len (flag)-1]):\r\n",
    "        flag. pop()\r\n",
    "    else:\r\n",
    "        return False\r\n",
    "if len(flag)==0:\r\n",
    "return True\r\n",
    "else:\r\n",
    "return False\r\n",
    "\r\n",
    "brackets(\"(x for x in range(0,50)\")\r\n",
    "brackets(\"(j for j in [i for x in list('C++ development'))]\") # should return False"
   ],
   "outputs": [],
   "metadata": {}
  },
  {
   "cell_type": "markdown",
   "source": [
    "## Q6: Solve these small exercises"
   ],
   "metadata": {}
  },
  {
   "cell_type": "markdown",
   "source": [
    "#### Write a function that returns the prime number from a list given as input. If no prime number exists, then it prints no prime number exists"
   ],
   "metadata": {}
  },
  {
   "cell_type": "code",
   "execution_count": null,
   "source": [
    "def prime(integers):\r\n",
    "    pass\r\n",
    "\r\n",
    "prime([15,188,99,45,789,11])\r\n",
    "prime([18,1,22,69,841,11])"
   ],
   "outputs": [],
   "metadata": {}
  },
  {
   "cell_type": "markdown",
   "source": [
    "#### Use string indexing to return whether an input string is a palindrome or not. DO NOT USE LOOPS!"
   ],
   "metadata": {}
  },
  {
   "cell_type": "code",
   "execution_count": null,
   "source": [
    "def is_palindrome(input_string):\r\n",
    "    x = input_string[:]\r\n",
    "    y = input_string[::-1]\r\n",
    "\r\n",
    "    if a==b\r\n",
    "        return True\r\n",
    "    else\r\n",
    "        return False\r\n",
    "\r\n",
    "is_palindrome(\"abcdcba\")\r\n",
    "is_palindrome(\"abcd\")\r\n",
    "is_palindrome(\"ab-+ba\")# should return False"
   ],
   "outputs": [],
   "metadata": {}
  },
  {
   "cell_type": "markdown",
   "source": [
    "#### You are given a list of multiple dictionaries. Your task is to sum the values of corresponding keys in each dictionary and return a new dictionary with summed up values. YOU MAY ONLY USE DICTIONARY COMPREHENSIONS."
   ],
   "metadata": {}
  },
  {
   "cell_type": "code",
   "execution_count": null,
   "source": [
    "def sum_dict(d_list):\r\n",
    "    \"\"\"\r\n",
    "    Example:\r\n",
    "    d_list = [{'a': 0.3, 'b': 0.25, 'c': .05},\r\n",
    "                {'a': 0.3, 'b': 25, 'c': .7}]\r\n",
    "                result = {'a':0.6, 'b':25.25, 'c':0.75}\r\n",
    "                \r\n",
    "                You may assume that the dictionaries will have the same keys nothing more nothing less\r\n",
    "                and that the values will always be numbers\"\"\"\r\n",
    "    x1 = d_list[0]\r\n",
    "    x2 = d_list[1]\r\n",
    "    x3 = a.keys\r\n",
    "    x4 = b.keys\r\n",
    "    x5 = a.values()\r\n",
    "    x6 = a.values()\r\n",
    "\r\n",
    "\r\n",
    "sum_dict([{'a': 0.3, 'b': 0.25, 'c': .05}, {'a': 0.3, 'b': 25, 'c': .7}])"
   ],
   "outputs": [],
   "metadata": {}
  },
  {
   "cell_type": "markdown",
   "source": [
    "#### Use python's built in methods for lists to perform the following operations"
   ],
   "metadata": {}
  },
  {
   "cell_type": "code",
   "execution_count": null,
   "source": [
    "list_q6 = [x**5 for x in range(0,100) if x % 3 != 0]\r\n",
    "####\r\n",
    "##\r\n",
    "## Append the square root of 1096 to the list.\r\n",
    "##\r\n",
    "## Insert 5088 at the 50th index in the list\r\n",
    "##\r\n",
    "## Remove 11881376 from the list\r\n",
    "## \r\n",
    "## Remove and Display the number at 86th postition\r\n",
    "##\r\n",
    "## Reverse the whole list\r\n",
    "##\r\n",
    "## Create a shallow copy of the list (Remove None from the variable below)\r\n",
    "##\r\n",
    "shallow_copy = list_q6\r\n",
    "print (\"output is: \")\r\n",
    "print (list_q6)"
   ],
   "outputs": [],
   "metadata": {}
  },
  {
   "cell_type": "markdown",
   "source": [
    "#### Use list comprehensions to return a transpose of the matrix below. While doing so each element on the diagonal must be set to zero. YOU MAY ONLY USE LIST COMPREHENSIONS"
   ],
   "metadata": {}
  },
  {
   "cell_type": "code",
   "execution_count": null,
   "source": [
    "matrix = [[1, 2, 3, 4],\r\n",
    "[5, 6, 7, 8],\r\n",
    "[9, 10, 11, 12],\r\n",
    "[13,14,15,16]]\r\n",
    "\r\n",
    "## Your answer here\r\n",
    "## "
   ],
   "outputs": [],
   "metadata": {}
  },
  {
   "cell_type": "markdown",
   "source": [
    "#### Write a function to read the capitals.txt file and insert numbers before each city, country name. Your function should edit the file only and save to that file only. Do not print your output here or create a new separate file."
   ],
   "metadata": {}
  },
  {
   "cell_type": "code",
   "execution_count": null,
   "source": [
    "def numbering(file_name):\r\n",
    "    \"\"\"Input: capitals.txt\r\n",
    "    Output: 1. Sukhumi, Abkhazia\r\n",
    "            2. Kabul, Afghanistan\r\n",
    "            3. Episkopi Cantonment, Akrotiri and Dhekelia\"\"\"\r\n",
    "    pass\r\n",
    "\r\n",
    "numbering(\"capitals.txt\")"
   ],
   "outputs": [],
   "metadata": {}
  },
  {
   "cell_type": "markdown",
   "source": [
    "#### Is there such a thing as tuple comprehension like list and dictionary comprehensions? Write your answer and demonstrate below."
   ],
   "metadata": {}
  },
  {
   "cell_type": "code",
   "execution_count": null,
   "source": [
    "####\r\n",
    "## YOUR ANSWER HERE\r\n",
    "##"
   ],
   "outputs": [],
   "metadata": {}
  },
  {
   "cell_type": "markdown",
   "source": [
    "#### Use Python's built-in data structures only for this question. In a single line of code, remove duplicates from the given list. Your answer must return a list. You may use other data structures."
   ],
   "metadata": {}
  },
  {
   "cell_type": "code",
   "execution_count": null,
   "source": [
    "from numpy import random\r\n",
    "given_list = random.randint(5000000, size=500).tolist()\r\n",
    "####\r\n",
    "## YOUR ANSWER BELOW (single line only: remove [None] from the variable below for your answer)\r\n",
    "new_list = list[dict.fromkeys(given_list)]\r\n",
    "assert type(new_list) == list"
   ],
   "outputs": [],
   "metadata": {}
  },
  {
   "cell_type": "markdown",
   "source": [
    "### Use a Python module to solve the following questions. Read the list of questions first to determine which module is required."
   ],
   "metadata": {}
  },
  {
   "cell_type": "code",
   "execution_count": null,
   "source": [
    "## -> you require a module here. Import it here\r\n",
    "### USE THE MODULE TO PLACE THE EULER'S CONSTANT IN THE VARIABLE BELOW. Replace [None]\r\n",
    "euler = [None]\r\n",
    "####\r\n",
    "## What is the ceiling (round up) value of euler\r\n",
    "##\r\n",
    "## What is the floor (rounded down) value of euler\r\n",
    "##\r\n",
    "## What is the absolute value of euler?\r\n",
    "##\r\n",
    "## Is the factorial of 0 and 1 the same? Return True or False\r\n",
    "##\r\n",
    "## What is the GCD of 180,378,276,369,63\r\n",
    "##\r\n",
    "## What is the log of pi?\r\n",
    "##\r\n",
    "## "
   ],
   "outputs": [],
   "metadata": {}
  },
  {
   "cell_type": "markdown",
   "source": [
    "#### Write a function that takes any number as input and prints its reciprocal floating value. But if the input is zero, it prints the string \"Inf\". You MAY NOT use if elif else statements."
   ],
   "metadata": {}
  },
  {
   "cell_type": "code",
   "execution_count": null,
   "source": [
    "def reciprocal(x):\r\n",
    "    while(x!=0):\r\n",
    "        print (1/x)\r\n",
    "        return\r\n",
    "print('Inf*)"
   ],
   "outputs": [],
   "metadata": {}
  },
  {
   "cell_type": "markdown",
   "source": [
    "#### Write a function that takes two input arguments. Then it adds both of them. If both are strings then they are concatenated and printed. If both are numbers then the sum of the two is printed. If both have different data types. Print a custom error (\"THESE TWO HAVE DIFFERENT DATA TYPES\"). DO NOT use if elif else statements."
   ],
   "metadata": {}
  },
  {
   "cell_type": "code",
   "execution_count": null,
   "source": [
    "def Function(x,y):\r\n",
    "while(type(x)!=type(y)):\r\n",
    "    print (\"These two have different Data types\")\r\n",
    "    return\r\n",
    "print (x+y)\r\n",
    "Function(1,2)\r\n",
    "Function('Naveed', 4)\r\n",
    "Function('Naveed','Ali')\r\n",
    "Function('FAST', 'NUCES')\r\n"
   ],
   "outputs": [],
   "metadata": {}
  },
  {
   "cell_type": "markdown",
   "source": [
    "## Q7: Define the class bankAccount to store a bank customer’s account number and balance. Suppose that account number is of type integer, and balance is of type float. Your class should, at least, provide the following operations: \n",
    "#### 1. set the account number, \n",
    "#### 2. retrieve the account number, \n",
    "#### 3. retrieve the balance, \n",
    "#### 4. deposit and withdraw money,\n",
    "#### 5. and print account information.\n",
    "\n",
    "## Every bank offers a savings account. Derive the class savingsAccount from the class bankAccount. This class inherits members to store the account number and the balance from the base class. A customer with a savings account typically receives interest, makes deposits, and withdraws money. \n",
    "#### In addition to the operations inherited from the base class, this class should provide the following operations: \n",
    "#### 4. set interest rate, \n",
    "#### 5. retrieve interest rate, \n",
    "#### 6. post interest, \n",
    "#### 7. withdraw (override the method of the base class), and print account information."
   ],
   "metadata": {}
  },
  {
   "cell_type": "code",
   "execution_count": null,
   "source": [
    "class bankaccount:\r\n",
    "acc_num-0\r\n",
    "bal=0.00\r\n",
    "\r\n",
    "def setacc(self,x):\r\n",
    "\tself.acc_num=x\r\n",
    "def getacc(self):\r\n",
    "\treturn self.acc_num\r\n",
    "def deposit (self, val):\r\n",
    "\tself.balance=self.bal+val\r\n",
    "def withdraw(self, val):\r\n",
    "\tif self.bal>=val:\r\n",
    "\t\tself.balance= self.bal - val\r\n",
    "\telse:\r\n",
    "\t\tprint (\"Balance not sufficient\") \r\n",
    "def get_bal(self):\r\n",
    "\treturn self.balI\r\n",
    "\t\t\r\n",
    "\t\t\r\n",
    "#====================================================================#"
   ],
   "outputs": [],
   "metadata": {}
  }
 ],
 "metadata": {
  "kernelspec": {
   "display_name": "Python 3",
   "language": "python",
   "name": "python3"
  },
  "language_info": {
   "codemirror_mode": {
    "name": "ipython",
    "version": 3
   },
   "file_extension": ".py",
   "mimetype": "text/x-python",
   "name": "python",
   "nbconvert_exporter": "python",
   "pygments_lexer": "ipython3",
   "version": "3.8.8"
  }
 },
 "nbformat": 4,
 "nbformat_minor": 5
}