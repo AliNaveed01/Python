{
 "cells": [
  {
   "attachments": {},
   "cell_type": "markdown",
   "metadata": {},
   "source": [
    "### Lab 2\n"
   ]
  },
  {
   "attachments": {},
   "cell_type": "markdown",
   "metadata": {},
   "source": [
    "Naveed ALi \n",
    "\n",
    "Roll no : 20L-1244"
   ]
  },
  {
   "attachments": {},
   "cell_type": "markdown",
   "metadata": {},
   "source": [
    "Question 1"
   ]
  },
  {
   "cell_type": "code",
   "execution_count": 35,
   "metadata": {},
   "outputs": [
    {
     "data": {
      "text/plain": [
       "'Number of chickens: many'"
      ]
     },
     "execution_count": 35,
     "metadata": {},
     "output_type": "execute_result"
    }
   ],
   "source": [
    "# question number 1\n",
    "#Given an int count of a number of chickens, return a string of the form 'Number of\n",
    "#chickens: <count>', where <count> is the number passed in. However, if the count is 10\n",
    "#or more, then use the word 'many' instead of the actual count. So chickens(5) returns\n",
    "#'Number of chickens: 5' and chickens(23) returns 'Number of chickens: many'.\n",
    "\n",
    "def noOfStrings(count):\n",
    "    if count >= 10:\n",
    "        return 'Number of chickens: many'\n",
    "    else:\n",
    "        return 'Number of chickens: ' + str(count)\n",
    "    \n",
    "#call the function\n",
    "noOfStrings(120)"
   ]
  },
  {
   "attachments": {},
   "cell_type": "markdown",
   "metadata": {},
   "source": [
    "2"
   ]
  },
  {
   "cell_type": "code",
   "execution_count": 38,
   "metadata": {},
   "outputs": [
    {
     "name": "stdout",
     "output_type": "stream",
     "text": [
      "intnce\n",
      "intger\n"
     ]
    }
   ],
   "source": [
    "#Create a string made of the first three and the last three characters of the original string s\n",
    "#and return the new string, so 'intelligence' creates 'intcne'. However, if the string length is\n",
    "#less than 3, return instead the empty string.\n",
    "\n",
    "def firstAndLast(s):\n",
    "    if len(s) < 3:\n",
    "        return '' #empty string\n",
    "    else:\n",
    "        return s[:3] + s[-3:] #first three and last three characters\n",
    "    \n",
    "#call the function\n",
    "print(firstAndLast('intelligence'))\n",
    "print(firstAndLast('integer'))"
   ]
  },
  {
   "attachments": {},
   "cell_type": "markdown",
   "metadata": {},
   "source": [
    "3"
   ]
  },
  {
   "cell_type": "code",
   "execution_count": 41,
   "metadata": {},
   "outputs": [
    {
     "name": "stdout",
     "output_type": "stream",
     "text": [
      "o@@gle\n",
      "e@@sha\n"
     ]
    }
   ],
   "source": [
    "#For a given string s, create a new string such that it replaces some characters of the string\n",
    "#with '@'. To replace, find the first character of the given string s. Now find all\n",
    "#occurrences of this first character in the string and replace them with '@'. Do not change\n",
    "#the first character itself.\n",
    "#e.g. 'Ooogle' create 'O@@gle'\n",
    "#Assume that the string is length 1 or more and take care of the word case.\n",
    "#Hint: s.replace(stra, strb) returns a version of string s where all instances of stra have been\n",
    "#replaced by strb.\n",
    "\n",
    "\n",
    "def replace(s): \n",
    "    firstChar = s[0]\n",
    "    newString = s.replace(firstChar, '@') #replace all occurrences of firstChar with @\n",
    "    return firstChar + newString[1:] #return the first character and the new string\n",
    "\n",
    "\n",
    "#call the function\n",
    "print(replace('ooogle'))\n",
    "print(replace('eeesha'))\n"
   ]
  },
  {
   "attachments": {},
   "cell_type": "markdown",
   "metadata": {},
   "source": [
    "4"
   ]
  },
  {
   "cell_type": "code",
   "execution_count": 42,
   "metadata": {},
   "outputs": [
    {
     "name": "stdout",
     "output_type": "stream",
     "text": [
      "pox mid\n",
      "dig donner\n"
     ]
    }
   ],
   "source": [
    "#Create a new string with the help of two input strings a and b. The new string should be\n",
    "#separated by a space b/w a and b. Also swap the first 2 chars of each string and return it.\n",
    "#e.g.\n",
    "#'mix', pod' -> 'pox mid'\n",
    "#'dog', 'dinner' -> 'dig donner'\n",
    "#Assume a and b are length 2 or more.\n",
    "\n",
    "def swap(a, b):\n",
    "    return b[:2] + a[2:] + ' ' + a[:2] + b[2:]  # here we are swapping the first two characters of a and b and then returning the new string\n",
    "\n",
    "#call the function\n",
    "print(swap('mix', 'pod'))\n",
    "print(swap('dog', 'dinner'))\n"
   ]
  },
  {
   "attachments": {},
   "cell_type": "markdown",
   "metadata": {},
   "source": [
    "5"
   ]
  },
  {
   "cell_type": "code",
   "execution_count": 43,
   "metadata": {},
   "outputs": [
    {
     "name": "stdout",
     "output_type": "stream",
     "text": [
      "2\n",
      "0\n"
     ]
    }
   ],
   "source": [
    "#Taking a list of strings as input, our matching function returns the count of the number of\n",
    "#strings whose first and last chars of the string are the same.#\n",
    "#Also, only consider strings with length of 2 or more.\n",
    "\n",
    "\n",
    "def matching(listOfStrings):\n",
    "    count = 0\n",
    "    for s in listOfStrings:  #here we are iterating through the list of strings\n",
    "        if len(s) >= 2 and s[0] == s[-1]: #here we are checking if the first and last characters of the string are same\n",
    "            count += 1 #if the condition is true then we are incrementing the count by 1\n",
    "    return count\n",
    "\n",
    "#call the function\n",
    "print(matching(['abc', 'xyz', 'aba', '1221']))\n",
    "print(matching(['a', 'b', 'c', 'd']))"
   ]
  },
  {
   "attachments": {},
   "cell_type": "markdown",
   "metadata": {},
   "source": [
    "6"
   ]
  },
  {
   "cell_type": "code",
   "execution_count": 9,
   "metadata": {},
   "outputs": [
    {
     "data": {
      "text/plain": [
       "['aardvark', 'apple', 'mix', 'xanadu', 'xyz']"
      ]
     },
     "execution_count": 9,
     "metadata": {},
     "output_type": "execute_result"
    }
   ],
   "source": [
    "#Given a list of strings, return a list with the strings in sorted order, except group all the\n",
    "#strings that begin with 'a' first.\n",
    "#e.g. ['mix', 'xyz', 'apple', 'xanadu', 'aardvark'] creates ['aardvark', 'apple', 'mix', 'xanadu',\n",
    "#'xyz']\n",
    "\n",
    "def sortStrings(listOfStrings):\n",
    "    listOfStrings.sort() #sort the list of strings\n",
    "    aList = [] #create an empty list\n",
    "    for s in listOfStrings:  #iterate through the list of strings\n",
    "        if s[0] == 'a': #check if the first character of the string is 'a'\n",
    "            aList.append(s) #if the condition is true then append the string to the list\n",
    "    for s in listOfStrings:# iterate through the list of strings\n",
    "        if s[0] != 'a': #check if the first character of the string is not 'a'\n",
    "            aList.append(s) #if the condition is true then append the string to the list\n",
    "    return aList\n",
    "\n",
    "\n",
    "#call the function\n",
    "sortStrings(['mix', 'xyz', 'apple', 'xanadu', 'aardvark'])"
   ]
  },
  {
   "attachments": {},
   "cell_type": "markdown",
   "metadata": {},
   "source": [
    "7"
   ]
  },
  {
   "cell_type": "code",
   "execution_count": 44,
   "metadata": {},
   "outputs": [
    {
     "name": "stdout",
     "output_type": "stream",
     "text": [
      "[(2, 2), (1, 3), (3, 4, 5), (1, 7)]\n",
      "[(2, 2), (1, 3), (1, 2, 3, 4), (3, 4, 5), (1, 7)]\n"
     ]
    }
   ],
   "source": [
    "#Given a list of non-empty tuples, return a list sorted in increasing order by the last\n",
    "#element in each tuple.\n",
    "#e.g. [(1, 7), (1, 3), (3, 4, 5), (2, 2)] creates [(2, 2), (1, 3), (3, 4, 5), (1, 7)]\n",
    "#Hint: use a custom key= function to extract the last element form each tuple.\n",
    "\n",
    "\n",
    "def sortTuples(listOfTuples):\n",
    "    return sorted(listOfTuples, key=lambda x: x[-1]) #sorts the list of tuples by the last element in each tuple\n",
    "\n",
    "#call teh function\n",
    "print(sortTuples([(1, 7), (1, 3), (3, 4, 5), (2, 2)]))\n",
    "print(sortTuples([(1, 7), (1, 3), (3, 4, 5), (2, 2), (1, 2, 3, 4)]))"
   ]
  },
  {
   "attachments": {},
   "cell_type": "markdown",
   "metadata": {},
   "source": [
    "8"
   ]
  },
  {
   "cell_type": "code",
   "execution_count": 14,
   "metadata": {},
   "outputs": [
    {
     "name": "stdout",
     "output_type": "stream",
     "text": [
      "True\n",
      "False\n"
     ]
    }
   ],
   "source": [
    "#Given a string s, create a function to detect if it's a palindrome. A palindrome is a word,\n",
    "#phrase, number, or other sequence of characters that reads the same backward or forward.\n",
    "\n",
    "def isPalindrome(s): \n",
    "    return s == s[::-1] # here we are comparing the string with its reverse string. \"::\" is used to reverse the string\n",
    "\n",
    "\n",
    "#call the function\n",
    "print(isPalindrome('madam'))\n",
    "\n",
    "print(isPalindrome('ALIIII'))"
   ]
  },
  {
   "attachments": {},
   "cell_type": "markdown",
   "metadata": {},
   "source": [
    "9"
   ]
  },
  {
   "cell_type": "code",
   "execution_count": 46,
   "metadata": {},
   "outputs": [
    {
     "name": "stdout",
     "output_type": "stream",
     "text": [
      "[1, 2, 3, 4, 5]\n",
      "[1, 2, 3, 4, 5, 6, 7, 8]\n"
     ]
    }
   ],
   "source": [
    "#Given a nested list of integers, create a function to flatten the list to a single-level list.\n",
    "#For example, [[1, 2, 3], [4, 5]] will be flattened to [1, 2, 3, 4, 5].\n",
    "\n",
    "def flattenList(listOfInts):\n",
    "    return [item for sublist in listOfInts for item in sublist] # here we are using list comprehension to flatten the list\n",
    "\n",
    "\n",
    "#call the function\n",
    "print(flattenList([[1, 2, 3], [4, 5]]))\n",
    "print(flattenList([[1, 2, 3], [4, 5,6,7,8]]))"
   ]
  },
  {
   "attachments": {},
   "cell_type": "markdown",
   "metadata": {},
   "source": [
    "10"
   ]
  },
  {
   "cell_type": "code",
   "execution_count": 48,
   "metadata": {},
   "outputs": [
    {
     "name": "stdout",
     "output_type": "stream",
     "text": [
      "[4, 5, 7]\n",
      "[4, 5, 7, 8, 9, 10, 11, 12]\n"
     ]
    }
   ],
   "source": [
    "#Given two lists of integers, create a function to return a list that contains only the\n",
    "#elements that are common between the two lists (without duplicates). Make sure your\n",
    "#program works with lists of different sizes.\n",
    "\n",
    "def commonElements(list1, list2):\n",
    "    return list(set(list1) & set(list2)) # here we are using set intersection to find the common elements in the two lists\n",
    "# in this way we are also removing the duplicates\n",
    "\n",
    "#call the function\n",
    "print(commonElements([1, 2, 3, 4, 5,7], [4, 5, 6, 7, 8]))\n",
    "print(commonElements([1, 2, 3, 4, 5,7,8,9,10,11,12], [4, 5, 6, 7, 8,9,10,11,12,13,14,15,16,17,18,19,20,21]))"
   ]
  },
  {
   "attachments": {},
   "cell_type": "markdown",
   "metadata": {},
   "source": [
    "11"
   ]
  },
  {
   "cell_type": "code",
   "execution_count": 49,
   "metadata": {},
   "outputs": [
    {
     "name": "stdout",
     "output_type": "stream",
     "text": [
      "True\n",
      "False\n"
     ]
    }
   ],
   "source": [
    "#Given two strings, create a function to detect if they are anagrams. An anagram is a word,\n",
    "#phrase, or name formed by rearranging the letters of another, such as cinema, formed\n",
    "#from iceman.\n",
    "\n",
    "def isAnagram(s1, s2):\n",
    "    return sorted(s1) == sorted(s2) # here we are sorting the strings and then comparing them\n",
    "\n",
    "# call the function\n",
    "print(isAnagram('cinema', 'iceman'))\n",
    "print(isAnagram('cinema', 'icemana'))"
   ]
  },
  {
   "attachments": {},
   "cell_type": "markdown",
   "metadata": {},
   "source": [
    "12"
   ]
  },
  {
   "cell_type": "code",
   "execution_count": 19,
   "metadata": {},
   "outputs": [
    {
     "data": {
      "text/plain": [
       "4"
      ]
     },
     "execution_count": 19,
     "metadata": {},
     "output_type": "execute_result"
    }
   ],
   "source": [
    "#Given a sorted list of integers, create a function to perform binary search on the list and\n",
    "#return the index of the target element. If the target element is not found, return -1.\n",
    "\n",
    "def binarySearch(listOfInts, target): # here we are using binary search algorithm to find the index of the target element\n",
    "    low = 0\n",
    "    high = len(listOfInts) - 1 # here we are finding the length of the list and subtracting 1 from it\n",
    "    while low <= high: \n",
    "        mid = (low + high) // 2\n",
    "        if listOfInts[mid] == target:\n",
    "            return mid\n",
    "        elif listOfInts[mid] < target:\n",
    "            low = mid + 1\n",
    "        else:\n",
    "            high = mid - 1\n",
    "    return -1\n",
    "\n",
    "#this function works in a way that it divides the list into two parts and then checks if the target element is in the first half or the second half\n",
    "\n",
    "#call the function\n",
    "binarySearch([1, 2, 3, 4, 5, 6, 7, 8, 9], 5)"
   ]
  },
  {
   "attachments": {},
   "cell_type": "markdown",
   "metadata": {},
   "source": [
    "14"
   ]
  },
  {
   "cell_type": "code",
   "execution_count": 24,
   "metadata": {},
   "outputs": [
    {
     "data": {
      "text/plain": [
       "[1, 2, 3, 4, 5, 6, 7, 8, 9]"
      ]
     },
     "execution_count": 24,
     "metadata": {},
     "output_type": "execute_result"
    }
   ],
   "source": [
    "#Given a list of integers, create a function to sort the list using the quick sort algorithm.\n",
    "#The quick sort algorithm is a recursive sorting algorithm that selects a pivot element from\n",
    "#the list and then partitions the other elements into two sub-lists, according to whether they\n",
    "#are less than or greater than the pivot.\n",
    "\n",
    "def quickSort(listOfInts):\n",
    "    if len(listOfInts) <= 1:\n",
    "        return listOfInts\n",
    "    else:\n",
    "        pivot = listOfInts.pop() #here we are selecting the last element of the list as the pivot\n",
    "\n",
    "    items_greater = []\n",
    "    items_lower = []\n",
    "\n",
    "    for item in listOfInts:\n",
    "        if item > pivot:\n",
    "            items_greater.append(item) #here we are appending the elements that are greater than the pivot to the items_greater list\n",
    "        else:\n",
    "            items_lower.append(item) #here we are appending the elements that are less than the pivot to the items_lower list\n",
    "\n",
    "    return quickSort(items_lower) + [pivot] + quickSort(items_greater) #here we are calling the function recursively\n",
    "#to sort the items_lower list and the items_greater list\n",
    "\n",
    "\n",
    "#call the function\n",
    "quickSort([1, 2, 3, 4, 5, 6, 7, 8, 9])"
   ]
  },
  {
   "attachments": {},
   "cell_type": "markdown",
   "metadata": {},
   "source": [
    "15"
   ]
  },
  {
   "cell_type": "code",
   "execution_count": 50,
   "metadata": {},
   "outputs": [
    {
     "name": "stdout",
     "output_type": "stream",
     "text": [
      "{1: 1, 2: 3, 3: 1, 4: 1}\n",
      "{1: 2, 2: 4, 3: 2, 4: 2, 5: 1, 6: 1, 7: 1, 8: 1, 9: 1, 10: 1, 11: 1, 12: 1}\n"
     ]
    }
   ],
   "source": [
    "#Given a list of integers, create a function to return a dictionary that contains the\n",
    "#frequency count of each element in the list. For example, the list [1, 2, 2, 3, 4, 2] would\n",
    "#return {1:1, 2:3, 3:1, 4:1}.\n",
    "\n",
    "def frequencyCount(listOfInts):\n",
    "    return {i: listOfInts.count(i) for i in listOfInts} #here we are using dictionary comprehension to create a dictionary\n",
    "\n",
    "\n",
    "#call the function\n",
    "print(frequencyCount([1, 2, 2, 3, 4, 2]))\n",
    "print(frequencyCount([1, 2, 2, 3, 4, 2, 1, 2, 3, 4, 5, 6, 7, 8, 9, 10, 11, 12]))"
   ]
  },
  {
   "attachments": {},
   "cell_type": "markdown",
   "metadata": {},
   "source": [
    "16"
   ]
  },
  {
   "cell_type": "code",
   "execution_count": 51,
   "metadata": {},
   "outputs": [
    {
     "name": "stdout",
     "output_type": "stream",
     "text": [
      "4\n",
      "12\n"
     ]
    }
   ],
   "source": [
    "#Given a list of integers, create a function to return the count of distinct elements in the\n",
    "#list. For example, the list [1, 2, 2, 3, 4, 2] would return 4.\n",
    "\n",
    "def distinctElements(listOfInts):\n",
    "    return len(set(listOfInts)) #here we are using set to find the distinct elements in the list\n",
    "\n",
    "#call the function\n",
    "print(distinctElements([1, 2, 2, 3, 4, 2]))\n",
    "print(distinctElements([1, 2, 2, 3, 4, 2, 1, 2, 3, 4, 5, 6, 7, 8, 9, 10, 11, 12]))"
   ]
  },
  {
   "attachments": {},
   "cell_type": "markdown",
   "metadata": {},
   "source": [
    "17"
   ]
  },
  {
   "cell_type": "code",
   "execution_count": 27,
   "metadata": {},
   "outputs": [
    {
     "data": {
      "text/plain": [
       "({1, 2, 3, 4, 5, 6, 7, 8}, {4, 5})"
      ]
     },
     "execution_count": 27,
     "metadata": {},
     "output_type": "execute_result"
    }
   ],
   "source": [
    "#Given two sets of integers, create a function to return the union and intersection of the\n",
    "#sets as a tuple of two sets. The union is the set of elements that appear in either set, while\n",
    "#the intersection is the set of elements that appear in both sets.\n",
    "\n",
    "def unionIntersection(set1, set2):\n",
    "    return (set1 | set2, set1 & set2) #here we are using set union and set intersection to find the union and intersection of the sets\n",
    "\n",
    "\n",
    "#call the function\n",
    "unionIntersection({1, 2, 3, 4, 5}, {4, 5, 6, 7, 8})"
   ]
  },
  {
   "attachments": {},
   "cell_type": "markdown",
   "metadata": {},
   "source": [
    "18"
   ]
  },
  {
   "cell_type": "code",
   "execution_count": 28,
   "metadata": {},
   "outputs": [
    {
     "data": {
      "text/plain": [
       "[2, 1, 10, 3]"
      ]
     },
     "execution_count": 28,
     "metadata": {},
     "output_type": "execute_result"
    }
   ],
   "source": [
    "#Given a dictionary, return a list of all the values in the dictionary, but without any\n",
    "\n",
    "#duplicates.\n",
    "\n",
    "def valuesWithoutDuplicates(dictionary):\n",
    "    return list(set(dictionary.values())) #here we are using set to remove the duplicates from the values of the dictionary\n",
    "\n",
    "\n",
    "#call the function\n",
    "valuesWithoutDuplicates({'a': 1, 'b': 10, 'c': 3, 'd': 2, 'e': 1})"
   ]
  },
  {
   "attachments": {},
   "cell_type": "markdown",
   "metadata": {},
   "source": [
    "19"
   ]
  },
  {
   "cell_type": "code",
   "execution_count": 52,
   "metadata": {},
   "outputs": [
    {
     "name": "stdout",
     "output_type": "stream",
     "text": [
      "['a']\n",
      "['b']\n"
     ]
    }
   ],
   "source": [
    "#Given a dictionary, return the key(s) of the value(s) that appear most often. If there is a\n",
    "#tie, return all keys.\n",
    "\n",
    "def mostFrequentValues(dictionary):\n",
    "    return [key for key, value in dictionary.items() if value == max(dictionary.values())] \n",
    "#here we are using list comprehension to find the key(s) of the value(s) that appear most often\n",
    "\n",
    "#call the function\n",
    "print(mostFrequentValues({'a': 15, 'b': 10, 'c': 3, 'd': 2, 'e': 1}))\n",
    "print(mostFrequentValues({'a': 1, 'b': 10, 'c': 3, 'd': 2, 'e': 1}))\n"
   ]
  },
  {
   "attachments": {},
   "cell_type": "markdown",
   "metadata": {},
   "source": [
    "20"
   ]
  },
  {
   "cell_type": "code",
   "execution_count": 53,
   "metadata": {},
   "outputs": [
    {
     "name": "stdout",
     "output_type": "stream",
     "text": [
      "{'a': 1, 'b': 2, 'c': 3, 'd': 4, 'e': 5, 'f': 6}\n",
      "{'a': 1, 'b': 5, 'c': 2}\n"
     ]
    }
   ],
   "source": [
    "#Given two dictionaries d1 and d2, return a new dictionary which contains all the keys and\n",
    "#values from d1 and d2. If a key is in both dictionaries, the value from d1 takes\n",
    "#precedence.\n",
    "\n",
    "def mergeDictionaries(d1, d2):\n",
    "    return {**d1, **d2} #here we are using dictionary unpacking to merge the dictionaries\n",
    "#** is used to unpack the dictionary\n",
    "#by unpacking the dictionary, we are adding the key-value pairs of the dictionary to the new dictionary\n",
    "\n",
    "#call the function\n",
    "print(mergeDictionaries({'a': 1, 'b': 2, 'c': 3}, {'d': 4, 'e': 5, 'f': 6}))\n",
    "print(mergeDictionaries({'a': 1, 'b': 2, 'c': 3}, {'a': 1, 'b': 5, 'c': 2}))"
   ]
  },
  {
   "attachments": {},
   "cell_type": "markdown",
   "metadata": {},
   "source": [
    "21"
   ]
  },
  {
   "cell_type": "code",
   "execution_count": 32,
   "metadata": {},
   "outputs": [
    {
     "data": {
      "text/plain": [
       "[{'a': 1, 'b': 2, 'c': 3}]"
      ]
     },
     "execution_count": 32,
     "metadata": {},
     "output_type": "execute_result"
    }
   ],
   "source": [
    "#Given a list of dictionaries and a key, return a new list that contains only the dictionaries\n",
    "#that have the given key.\n",
    "\n",
    "def filterDictionaries(listOfDictionaries, key):\n",
    "    return [dictionary for dictionary in listOfDictionaries if key in dictionary]\n",
    "# here we are using list comprehension to filter the dictionaries that have the given key\n",
    "\n",
    "#call the function\n",
    "filterDictionaries([{'a': 1, 'b': 2, 'c': 3}, {'d': 4, 'e': 5, 'f': 6}, {'g': 7, 'h': 8, 'i': 9}], 'a')"
   ]
  },
  {
   "attachments": {},
   "cell_type": "markdown",
   "metadata": {},
   "source": [
    "22"
   ]
  },
  {
   "cell_type": "code",
   "execution_count": 54,
   "metadata": {},
   "outputs": [
    {
     "name": "stdout",
     "output_type": "stream",
     "text": [
      "[2, 3]\n",
      "[1, 2, 3, 4]\n"
     ]
    }
   ],
   "source": [
    "#Given a list, return the elements that are duplicated in the list. The returned list should\n",
    "#only contain the duplicated elements, without any duplicates.\n",
    "\n",
    "def duplicateElements(listOfInts):\n",
    "    return list(set([i for i in listOfInts if listOfInts.count(i) > 1]))\n",
    "# here we are using list comprehension to find the elements that are duplicated in the list\n",
    "# by using set, we are removing the duplicates from the list\n",
    "\n",
    "#call the function\n",
    "print(duplicateElements([1, 2, 3, 3, 4, 2]))\n",
    "print(duplicateElements([1, 2, 3, 3, 4, 2, 1, 2, 3, 4, 5, 6, 7, 8, 9, 10, 11, 12]))"
   ]
  }
 ],
 "metadata": {
  "kernelspec": {
   "display_name": "Python 3",
   "language": "python",
   "name": "python3"
  },
  "language_info": {
   "codemirror_mode": {
    "name": "ipython",
    "version": 3
   },
   "file_extension": ".py",
   "mimetype": "text/x-python",
   "name": "python",
   "nbconvert_exporter": "python",
   "pygments_lexer": "ipython3",
   "version": "3.11.1"
  },
  "orig_nbformat": 4,
  "vscode": {
   "interpreter": {
    "hash": "788f3ddd13f37f049622d5d511bcab7b953619f415519b1e05f3798ddf7be1d5"
   }
  }
 },
 "nbformat": 4,
 "nbformat_minor": 2
}
